{
 "cells": [
  {
   "cell_type": "code",
   "execution_count": 1,
   "metadata": {},
   "outputs": [],
   "source": [
    "from moccasin import setup_notebook\n",
    "\n",
    "setup_notebook()\n"
   ]
  },
  {
   "cell_type": "code",
   "execution_count": 2,
   "metadata": {},
   "outputs": [
    {
     "name": "stdout",
     "output_type": "stream",
     "text": [
      "0x8292B43aB73EfAC11FAF357419C38ACF448202C5\n",
      "<virtual_token interface at 0x0b3e328455c4059EEb9e3f84b5543F74E24e7E1b>\n",
      "<uniswap_swap_router interface at 0x2626664c2603336E57B271c5C0b26F421741e481>\n"
     ]
    }
   ],
   "source": [
    "from moccasin.config import get_active_network\n",
    "import boa\n",
    "from boa.contracts.abi.abi_contract import ABIContract\n",
    "\n",
    "STARTING_ETH_BALANCE = int(1000e18)\n",
    "\n",
    "active_network = get_active_network()\n",
    "ffactory = active_network.manifest_named(\"ffactory\")\n",
    "virtual_token = active_network.manifest_named(\"virtual_token\")\n",
    "uniswap_swap_router = active_network.manifest_named(\"uniswap_swap_router\")\n",
    "weth = active_network.manifest_named(\"weth\")\n",
    "\n",
    "print(ffactory.router())\n",
    "print(virtual_token)\n",
    "print(uniswap_swap_router)\n"
   ]
  },
  {
   "cell_type": "code",
   "execution_count": 7,
   "metadata": {},
   "outputs": [
    {
     "name": "stdout",
     "output_type": "stream",
     "text": [
      "1000000000000000000000\n"
     ]
    }
   ],
   "source": [
    "boa.env.set_balance(boa.env.eoa, STARTING_ETH_BALANCE)\n",
    "weth.deposit(value=STARTING_ETH_BALANCE)\n",
    "print(weth.balanceOf(boa.env.eoa))\n"
   ]
  },
  {
   "cell_type": "code",
   "execution_count": 4,
   "metadata": {},
   "outputs": [],
   "source": [
    "def swap_exact_input_single(\n",
    "    swap_router,\n",
    "    token_in_contract,\n",
    "    token_out_contract,\n",
    "    amount_in: int,\n",
    "    amount_out_min: int,\n",
    "    pool_fee: int = 3000,  # 0.3% fee tier\n",
    ") -> int:\n",
    "    \"\"\"\n",
    "    Swaps a fixed amount of token_in for a maximum possible amount of token_out\n",
    "\n",
    "    Args:\n",
    "        swap_router: ISwapRouter contract\n",
    "        token_in_contract: Input token contract\n",
    "        token_out_contract: Output token contract\n",
    "        amount_in: Exact amount of input token to swap\n",
    "        pool_fee: Fee tier (default 0.3% = 3000)\n",
    "\n",
    "    Returns:\n",
    "        amount_out: Amount of output token received\n",
    "    \"\"\"\n",
    "    # First approve router to spend token\n",
    "    token_in_contract.approve(swap_router.address, amount_in)\n",
    "\n",
    "    # struct ExactInputSingleParams {\n",
    "    #     address tokenIn;\n",
    "    #     address tokenOut;\n",
    "    #     uint24 fee;\n",
    "    #     address recipient;\n",
    "    #     uint256 amountIn;\n",
    "    #     uint256 amountOutMinimum;\n",
    "    #     uint160 sqrtPriceLimitX96;\n",
    "    # }\n",
    "    amount_out = swap_router.exactInputSingle(\n",
    "        (\n",
    "            token_in_contract.address,\n",
    "            token_out_contract.address,\n",
    "            pool_fee,\n",
    "            boa.env.eoa,\n",
    "            int(amount_in),\n",
    "            int(amount_out_min),\n",
    "            0,\n",
    "        )\n",
    "    )\n",
    "    return amount_out"
   ]
  },
  {
   "cell_type": "code",
   "execution_count": 10,
   "metadata": {},
   "outputs": [],
   "source": [
    "AMOUNT_IN = int(1e18)\n",
    "amount_out = swap_exact_input_single(\n",
    "            swap_router=uniswap_swap_router,\n",
    "            token_in_contract=weth,\n",
    "            token_out_contract=virtual_token,\n",
    "            amount_in=AMOUNT_IN,\n",
    "            amount_out_min=0,\n",
    "        )"
   ]
  },
  {
   "cell_type": "code",
   "execution_count": 11,
   "metadata": {},
   "outputs": [
    {
     "name": "stdout",
     "output_type": "stream",
     "text": [
      "1323357003289554477839\n"
     ]
    }
   ],
   "source": [
    "print(virtual_token.balanceOf(boa.env.eoa))"
   ]
  }
 ],
 "metadata": {
  "kernelspec": {
   "display_name": ".venv",
   "language": "python",
   "name": "python3"
  },
  "language_info": {
   "codemirror_mode": {
    "name": "ipython",
    "version": 3
   },
   "file_extension": ".py",
   "mimetype": "text/x-python",
   "name": "python",
   "nbconvert_exporter": "python",
   "pygments_lexer": "ipython3",
   "version": "3.12.7"
  }
 },
 "nbformat": 4,
 "nbformat_minor": 2
}
