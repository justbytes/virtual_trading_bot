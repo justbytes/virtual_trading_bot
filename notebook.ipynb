{
 "cells": [
  {
   "cell_type": "code",
   "execution_count": 1,
   "metadata": {},
   "outputs": [],
   "source": [
    "from moccasin import setup_notebook\n",
    "\n",
    "setup_notebook()\n"
   ]
  },
  {
   "cell_type": "code",
   "execution_count": 2,
   "metadata": {},
   "outputs": [
    {
     "name": "stdout",
     "output_type": "stream",
     "text": [
      "0x8292B43aB73EfAC11FAF357419C38ACF448202C5\n",
      "<virtual_token interface at 0x0b3e328455c4059EEb9e3f84b5543F74E24e7E1b>\n",
      "<uniswap_swap_router interface at 0x2626664c2603336E57B271c5C0b26F421741e481>\n",
      "<agent_factory interface at 0x71B8EFC8BCaD65a5D9386D07f2Dff57ab4EAf533>\n"
     ]
    }
   ],
   "source": [
    "from moccasin.config import get_active_network\n",
    "import boa\n",
    "from boa.contracts.abi.abi_contract import ABIContract, ABIFunction\n",
    "\n",
    "STARTING_ETH_BALANCE = int(1000e18)\n",
    "\n",
    "active_network = get_active_network()\n",
    "ffactory = active_network.manifest_named(\"ffactory\")\n",
    "virtual_token = active_network.manifest_named(\"virtual_token\")\n",
    "uniswap_swap_router = active_network.manifest_named(\"uniswap_swap_router\")\n",
    "weth = active_network.manifest_named(\"weth\")\n",
    "agent_factory = active_network.manifest_named(\"agent_factory\")\n",
    "bonding = active_network.manifest_named(\"bonding\")\n",
    "ferc20 = active_network.manifest_named(\"ferc20\")\n",
    "\n",
    "\n",
    "print(ffactory.router())\n",
    "print(virtual_token)\n",
    "print(uniswap_swap_router)\n",
    "print(agent_factory)\n"
   ]
  },
  {
   "cell_type": "code",
   "execution_count": 3,
   "metadata": {},
   "outputs": [
    {
     "name": "stdout",
     "output_type": "stream",
     "text": [
      "1000000000000000000000\n"
     ]
    }
   ],
   "source": [
    "boa.env.set_balance(boa.env.eoa, STARTING_ETH_BALANCE)\n",
    "weth.deposit(value=STARTING_ETH_BALANCE)\n",
    "print(weth.balanceOf(boa.env.eoa))\n"
   ]
  },
  {
   "cell_type": "code",
   "execution_count": 4,
   "metadata": {},
   "outputs": [],
   "source": [
    "def swap_exact_input_single(\n",
    "    swap_router,\n",
    "    token_in_contract,\n",
    "    token_out_contract,\n",
    "    amount_in: int,\n",
    "    amount_out_min: int,\n",
    "    pool_fee: int = 3000,  # 0.3% fee tier\n",
    ") -> int:\n",
    "    \"\"\"\n",
    "    Swaps a fixed amount of token_in for a maximum possible amount of token_out\n",
    "\n",
    "    Args:\n",
    "        swap_router: ISwapRouter contract\n",
    "        token_in_contract: Input token contract\n",
    "        token_out_contract: Output token contract\n",
    "        amount_in: Exact amount of input token to swap\n",
    "        pool_fee: Fee tier (default 0.3% = 3000)\n",
    "\n",
    "    Returns:\n",
    "        amount_out: Amount of output token received\n",
    "    \"\"\"\n",
    "    # First approve router to spend token\n",
    "    token_in_contract.approve(swap_router.address, amount_in)\n",
    "\n",
    "    # struct ExactInputSingleParams {\n",
    "    #     address tokenIn;\n",
    "    #     address tokenOut;\n",
    "    #     uint24 fee;\n",
    "    #     address recipient;\n",
    "    #     uint256 amountIn;\n",
    "    #     uint256 amountOutMinimum;\n",
    "    #     uint160 sqrtPriceLimitX96;\n",
    "    # }\n",
    "    amount_out = swap_router.exactInputSingle(\n",
    "        (\n",
    "            token_in_contract.address,\n",
    "            token_out_contract.address,\n",
    "            pool_fee,\n",
    "            boa.env.eoa,\n",
    "            int(amount_in),\n",
    "            int(amount_out_min),\n",
    "            0,\n",
    "        )\n",
    "    )\n",
    "    return amount_out"
   ]
  },
  {
   "cell_type": "code",
   "execution_count": 5,
   "metadata": {},
   "outputs": [],
   "source": [
    "AMOUNT_IN = int(1e18)\n",
    "amount_out = swap_exact_input_single(\n",
    "            swap_router=uniswap_swap_router,\n",
    "            token_in_contract=weth,\n",
    "            token_out_contract=virtual_token,\n",
    "            amount_in=AMOUNT_IN,\n",
    "            amount_out_min=0,\n",
    "        )"
   ]
  },
  {
   "cell_type": "code",
   "execution_count": 6,
   "metadata": {},
   "outputs": [
    {
     "name": "stdout",
     "output_type": "stream",
     "text": [
      "1508705313474381603330\n"
     ]
    }
   ],
   "source": [
    "print(virtual_token.balanceOf(boa.env.eoa))"
   ]
  },
  {
   "cell_type": "code",
   "execution_count": 7,
   "metadata": {},
   "outputs": [
    {
     "name": "stdout",
     "output_type": "stream",
     "text": [
      "0x731814e491571A2e9eE3c5b1F7f3b962eE8f4870\n"
     ]
    }
   ],
   "source": [
    "random_agent_token = agent_factory.allTradingTokens(0)\n",
    "print(random_agent_token)"
   ]
  },
  {
   "cell_type": "code",
   "execution_count": 8,
   "metadata": {},
   "outputs": [
    {
     "name": "stdout",
     "output_type": "stream",
     "text": [
      "<agent_token interface at 0x731814e491571A2e9eE3c5b1F7f3b962eE8f4870>\n",
      "Token Name: VaderAI by Virtuals\n",
      "Token Symbol: VADER\n",
      "Decimals: 18\n",
      "Total Supply: 996739513197730759543222706\n"
     ]
    }
   ],
   "source": [
    "\n",
    "agent_token = active_network.manifest_named(\"agent_token\")\n",
    "print(agent_token)\n",
    "\n",
    "# Now you can interact with it\n",
    "print(f\"Token Name: {agent_token.name()}\")\n",
    "print(f\"Token Symbol: {agent_token.symbol()}\")\n",
    "print(f\"Decimals: {agent_token.decimals()}\")\n",
    "print(f\"Total Supply: {agent_token.totalSupply()}\")\n"
   ]
  },
  {
   "cell_type": "code",
   "execution_count": 9,
   "metadata": {},
   "outputs": [
    {
     "name": "stdout",
     "output_type": "stream",
     "text": [
      "1508.7053134743817\n",
      "True\n"
     ]
    }
   ],
   "source": [
    "from moccasin.config import get_or_initialize_config\n",
    "\n",
    "config = get_or_initialize_config()\n",
    "config.reload()\n",
    "\n",
    "amount_in = int(1e18)\n",
    "\n",
    "with boa.env.prank(boa.env.eoa):\n",
    "    print(virtual_token.balanceOf(boa.env.eoa) / 10 ** 18)\n",
    "    #weth.approve(bonding.address, amount_in)\n",
    "    virtual_token.approve(ffactory.router(), amount_in)\n",
    "    \n",
    "    success = bonding.buy(amount_in, ferc20.address)\n",
    "\n",
    "    print(success)\n",
    "\n"
   ]
  },
  {
   "cell_type": "code",
   "execution_count": 10,
   "metadata": {},
   "outputs": [
    {
     "name": "stdout",
     "output_type": "stream",
     "text": [
      "163286.05880128185\n",
      "125000000.0\n"
     ]
    }
   ],
   "source": [
    "print(ferc20.balanceOf(boa.env.eoa) / 10 ** 18)\n",
    "print(125000000000000000000000000 / 10 ** 18)"
   ]
  },
  {
   "cell_type": "code",
   "execution_count": 26,
   "metadata": {},
   "outputs": [
    {
     "name": "stdout",
     "output_type": "stream",
     "text": [
      "0x89a5a5335b22055533a3E1581fDaA60D0d4f8ADb\n",
      "0x2072Ebe65d2Def584551D6b14c629BD0D68FE396\n",
      "0x0b3e328455c4059EEb9e3f84b5543F74E24e7E1b\n",
      "31.902484780317295\n",
      "994711041.0254785\n",
      "994711041.0254785\n",
      "6031.9024847803175\n",
      "869711041.0254785\n"
     ]
    }
   ],
   "source": [
    "import json\n",
    "\n",
    "with open(\"abis/FPair.json\") as f:\n",
    "    fpair_abi = json.load(f)\n",
    "    \n",
    "pool_address = ffactory.getPair(ferc20.address, virtual_token.address)\n",
    "# Create list of ABIFunction objects from the ABI\n",
    "\n",
    "functions = []\n",
    "for item in abi:\n",
    "    if item.get('type') == 'function':\n",
    "        fn = ABIFunction(\n",
    "            abi=item,  # Pass the entire ABI item\n",
    "            contract_name=\"pool\"  # Pass the contract name\n",
    "        )\n",
    "        functions.append(fn)\n",
    "\n",
    "# Initialize the contract\n",
    "fpair = ABIContract(\n",
    "    name=str(\"fpair\"),\n",
    "    abi=fpair_abi,\n",
    "    functions=functions,\n",
    "    address=pool_address,\n",
    "    \n",
    ")\n",
    "reserves = fpair.getReserves()\n",
    "token0 = fpair.tokenA()\n",
    "token1 = fpair.tokenB()\n",
    "\n",
    "print(pool_address)\n",
    "print(token0)\n",
    "print(token1)\n",
    "\n",
    "print(virtual_token.balanceOf(pool_address)/ 10 ** 18)\n",
    "print(ferc20.balanceOf(pool_address)/ 10 ** 18)\n",
    "\n",
    "print(reserves[0] / 10 ** 18)\n",
    "print(reserves[1] / 10 ** 18)\n",
    "\n",
    "funds_needed = reserves[0] - bonding.gradThreshold()\n",
    "\n",
    "print(funds_needed / 10 ** 18)"
   ]
  },
  {
   "cell_type": "code",
   "execution_count": 24,
   "metadata": {},
   "outputs": [
    {
     "ename": "SyntaxError",
     "evalue": "invalid syntax (2524322571.py, line 1)",
     "output_type": "error",
     "traceback": [
      "\u001b[0;36m  Cell \u001b[0;32mIn[24], line 1\u001b[0;36m\u001b[0m\n\u001b[0;31m    mCap = (tokenInfo[tokenAddress].data.supply * newReserveB) /\u001b[0m\n\u001b[0m                                                                ^\u001b[0m\n\u001b[0;31mSyntaxError\u001b[0m\u001b[0;31m:\u001b[0m invalid syntax\n"
     ]
    }
   ],
   "source": [
    "# Reserve A is FERC20\n",
    "# Reserve B is virtual token\n",
    "\n",
    "mCap = (tokenInfo[tokenAddress].data.supply * newReserveB) / newReserveA"
   ]
  },
  {
   "cell_type": "code",
   "execution_count": null,
   "metadata": {},
   "outputs": [],
   "source": []
  }
 ],
 "metadata": {
  "kernelspec": {
   "display_name": ".venv",
   "language": "python",
   "name": "python3"
  },
  "language_info": {
   "codemirror_mode": {
    "name": "ipython",
    "version": 3
   },
   "file_extension": ".py",
   "mimetype": "text/x-python",
   "name": "python",
   "nbconvert_exporter": "python",
   "pygments_lexer": "ipython3",
   "version": "3.12.3"
  }
 },
 "nbformat": 4,
 "nbformat_minor": 2
}
