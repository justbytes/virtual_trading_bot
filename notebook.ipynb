{
 "cells": [
  {
   "cell_type": "code",
   "execution_count": 1,
   "metadata": {},
   "outputs": [],
   "source": [
    "from moccasin import setup_notebook\n",
    "\n",
    "setup_notebook()\n"
   ]
  },
  {
   "cell_type": "code",
   "execution_count": 2,
   "metadata": {},
   "outputs": [
    {
     "name": "stdout",
     "output_type": "stream",
     "text": [
      "0x8292B43aB73EfAC11FAF357419C38ACF448202C5\n",
      "<virtual_token interface at 0x0b3e328455c4059EEb9e3f84b5543F74E24e7E1b>\n",
      "<uniswap_swap_router interface at 0x2626664c2603336E57B271c5C0b26F421741e481>\n",
      "<agent_factory interface at 0x71B8EFC8BCaD65a5D9386D07f2Dff57ab4EAf533>\n"
     ]
    }
   ],
   "source": [
    "from moccasin.config import get_active_network\n",
    "import boa\n",
    "from boa.contracts.abi.abi_contract import ABIContract\n",
    "\n",
    "STARTING_ETH_BALANCE = int(1000e18)\n",
    "\n",
    "active_network = get_active_network()\n",
    "ffactory = active_network.manifest_named(\"ffactory\")\n",
    "virtual_token = active_network.manifest_named(\"virtual_token\")\n",
    "uniswap_swap_router = active_network.manifest_named(\"uniswap_swap_router\")\n",
    "weth = active_network.manifest_named(\"weth\")\n",
    "agent_factory = active_network.manifest_named(\"agent_factory\")\n",
    "\n",
    "\n",
    "print(ffactory.router())\n",
    "print(virtual_token)\n",
    "print(uniswap_swap_router)\n",
    "print(agent_factory)\n"
   ]
  },
  {
   "cell_type": "code",
   "execution_count": 3,
   "metadata": {},
   "outputs": [
    {
     "name": "stdout",
     "output_type": "stream",
     "text": [
      "1000000000000000000000\n"
     ]
    }
   ],
   "source": [
    "boa.env.set_balance(boa.env.eoa, STARTING_ETH_BALANCE)\n",
    "weth.deposit(value=STARTING_ETH_BALANCE)\n",
    "print(weth.balanceOf(boa.env.eoa))\n"
   ]
  },
  {
   "cell_type": "code",
   "execution_count": 4,
   "metadata": {},
   "outputs": [],
   "source": [
    "def swap_exact_input_single(\n",
    "    swap_router,\n",
    "    token_in_contract,\n",
    "    token_out_contract,\n",
    "    amount_in: int,\n",
    "    amount_out_min: int,\n",
    "    pool_fee: int = 3000,  # 0.3% fee tier\n",
    ") -> int:\n",
    "    \"\"\"\n",
    "    Swaps a fixed amount of token_in for a maximum possible amount of token_out\n",
    "\n",
    "    Args:\n",
    "        swap_router: ISwapRouter contract\n",
    "        token_in_contract: Input token contract\n",
    "        token_out_contract: Output token contract\n",
    "        amount_in: Exact amount of input token to swap\n",
    "        pool_fee: Fee tier (default 0.3% = 3000)\n",
    "\n",
    "    Returns:\n",
    "        amount_out: Amount of output token received\n",
    "    \"\"\"\n",
    "    # First approve router to spend token\n",
    "    token_in_contract.approve(swap_router.address, amount_in)\n",
    "\n",
    "    # struct ExactInputSingleParams {\n",
    "    #     address tokenIn;\n",
    "    #     address tokenOut;\n",
    "    #     uint24 fee;\n",
    "    #     address recipient;\n",
    "    #     uint256 amountIn;\n",
    "    #     uint256 amountOutMinimum;\n",
    "    #     uint160 sqrtPriceLimitX96;\n",
    "    # }\n",
    "    amount_out = swap_router.exactInputSingle(\n",
    "        (\n",
    "            token_in_contract.address,\n",
    "            token_out_contract.address,\n",
    "            pool_fee,\n",
    "            boa.env.eoa,\n",
    "            int(amount_in),\n",
    "            int(amount_out_min),\n",
    "            0,\n",
    "        )\n",
    "    )\n",
    "    return amount_out"
   ]
  },
  {
   "cell_type": "code",
   "execution_count": 5,
   "metadata": {},
   "outputs": [],
   "source": [
    "AMOUNT_IN = int(1e18)\n",
    "amount_out = swap_exact_input_single(\n",
    "            swap_router=uniswap_swap_router,\n",
    "            token_in_contract=weth,\n",
    "            token_out_contract=virtual_token,\n",
    "            amount_in=AMOUNT_IN,\n",
    "            amount_out_min=0,\n",
    "        )"
   ]
  },
  {
   "cell_type": "code",
   "execution_count": 6,
   "metadata": {},
   "outputs": [
    {
     "name": "stdout",
     "output_type": "stream",
     "text": [
      "1536488887315522710389\n"
     ]
    }
   ],
   "source": [
    "print(virtual_token.balanceOf(boa.env.eoa))"
   ]
  },
  {
   "cell_type": "code",
   "execution_count": 7,
   "metadata": {},
   "outputs": [
    {
     "name": "stdout",
     "output_type": "stream",
     "text": [
      "0x731814e491571A2e9eE3c5b1F7f3b962eE8f4870\n"
     ]
    }
   ],
   "source": [
    "random_agent_token = agent_factory.allTradingTokens(0)\n",
    "print(random_agent_token)"
   ]
  },
  {
   "cell_type": "code",
   "execution_count": 8,
   "metadata": {},
   "outputs": [
    {
     "ename": "ImportError",
     "evalue": "cannot import name 'Contract' from 'moccasin.config' (/home/jess/Coding/projects/virtual_trading_bot/.venv/lib/python3.12/site-packages/moccasin/config.py)",
     "output_type": "error",
     "traceback": [
      "\u001b[0;31m---------------------------------------------------------------------------\u001b[0m",
      "\u001b[0;31mImportError\u001b[0m                               Traceback (most recent call last)",
      "Cell \u001b[0;32mIn[8], line 1\u001b[0m\n\u001b[0;32m----> 1\u001b[0m \u001b[38;5;28;01mfrom\u001b[39;00m\u001b[38;5;250m \u001b[39m\u001b[38;5;21;01mmoccasin\u001b[39;00m\u001b[38;5;21;01m.\u001b[39;00m\u001b[38;5;21;01mconfig\u001b[39;00m\u001b[38;5;250m \u001b[39m\u001b[38;5;28;01mimport\u001b[39;00m Contract\n\u001b[1;32m      3\u001b[0m \u001b[38;5;66;03m# Create a new contract instance using the ABI from aixbt_agent_token but with your specific address\u001b[39;00m\n\u001b[1;32m      4\u001b[0m agent_token \u001b[38;5;241m=\u001b[39m Contract(\n\u001b[1;32m      5\u001b[0m     \u001b[38;5;124m\"\u001b[39m\u001b[38;5;124magent_token\u001b[39m\u001b[38;5;124m\"\u001b[39m,  \u001b[38;5;66;03m# name can be anything\u001b[39;00m\n\u001b[1;32m      6\u001b[0m     random_agent_token,  \u001b[38;5;66;03m# your address\u001b[39;00m\n\u001b[1;32m      7\u001b[0m     active_network\u001b[38;5;241m.\u001b[39mmanifest_named(\u001b[38;5;124m\"\u001b[39m\u001b[38;5;124magent_token\u001b[39m\u001b[38;5;124m\"\u001b[39m)\u001b[38;5;241m.\u001b[39mabi  \u001b[38;5;66;03m# use existing ABI\u001b[39;00m\n\u001b[1;32m      8\u001b[0m )\n",
      "\u001b[0;31mImportError\u001b[0m: cannot import name 'Contract' from 'moccasin.config' (/home/jess/Coding/projects/virtual_trading_bot/.venv/lib/python3.12/site-packages/moccasin/config.py)"
     ]
    }
   ],
   "source": [
    "from moccasin.config import Contract\n",
    "\n",
    "# Create a new contract instance using the ABI from aixbt_agent_token but with your specific address\n",
    "agent_token = Contract(\n",
    "    \"agent_token\",  # name can be anything\n",
    "    random_agent_token,  # your address\n",
    "    active_network.manifest_named(\"agent_token\")  # use existing ABI\n",
    ")\n",
    "\n",
    "# Now you can interact with it\n",
    "print(f\"Token Name: {agent_token.name()}\")\n",
    "print(f\"Token Symbol: {agent_token.symbol()}\")\n",
    "print(f\"Decimals: {agent_token.decimals()}\")\n",
    "print(f\"Total Supply: {agent_token.totalSupply()}\")\n"
   ]
  }
 ],
 "metadata": {
  "kernelspec": {
   "display_name": ".venv",
   "language": "python",
   "name": "python3"
  },
  "language_info": {
   "codemirror_mode": {
    "name": "ipython",
    "version": 3
   },
   "file_extension": ".py",
   "mimetype": "text/x-python",
   "name": "python",
   "nbconvert_exporter": "python",
   "pygments_lexer": "ipython3",
   "version": "3.12.3"
  }
 },
 "nbformat": 4,
 "nbformat_minor": 2
}
